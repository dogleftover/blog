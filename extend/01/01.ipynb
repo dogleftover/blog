{
 "cells": [
  {
   "cell_type": "code",
   "execution_count": 1,
   "metadata": {},
   "outputs": [],
   "source": [
    "from pyecharts.charts import Geo  \n",
    "from pyecharts import options as opts  \n",
    "import random  \n",
    "\n",
    "data_province = [('重庆', 383), ('浙江', 927), ('甘肃', 91)] \n",
    "  \n",
    "init_opts=opts.InitOpts(width=\"400px\", height=\"600px\")  # 设置初始化选项  \n",
    "# 创建一个 Geo 对象，并设置初始化选项（包括图表大小）  \n",
    "china_province = (  \n",
    "    Geo()  \n",
    "    .add_schema(maptype=\"china\")  # 指定地图类型为'china'  \n",
    "    .add(\"\", data_province, type_=\"effectScatter\")  # 使用 effectScatter 类型显示数据点  \n",
    "    .set_series_opts(label_opts=opts.LabelOpts(is_show=False))  # 这里设置是否显示数据点标签，默认为不显示  \n",
    "    .set_global_opts(  \n",
    "        title_opts=opts.TitleOpts(title='截至2024-05-31贡献度'),  \n",
    "        visualmap_opts=opts.VisualMapOpts(  \n",
    "            min_=1,  \n",
    "            max_=1000,  \n",
    "            is_piecewise=True  \n",
    "        ),  \n",
    "    )  \n",
    "    .render(path='21.html')  \n",
    ")"
   ]
  }
 ],
 "metadata": {
  "kernelspec": {
   "display_name": "base",
   "language": "python",
   "name": "python3"
  },
  "language_info": {
   "codemirror_mode": {
    "name": "ipython",
    "version": 3
   },
   "file_extension": ".py",
   "mimetype": "text/x-python",
   "name": "python",
   "nbconvert_exporter": "python",
   "pygments_lexer": "ipython3",
   "version": "3.11.5"
  }
 },
 "nbformat": 4,
 "nbformat_minor": 2
}
